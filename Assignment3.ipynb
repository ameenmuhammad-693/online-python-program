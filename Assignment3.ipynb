{
 "cells": [
  {
   "cell_type": "code",
   "execution_count": 1,
   "id": "c30b5137",
   "metadata": {},
   "outputs": [
    {
     "name": "stdout",
     "output_type": "stream",
     "text": [
      "please enter the first number=2\n",
      "please enter the second number=3\n",
      "addion of two numbers are =5\n"
     ]
    }
   ],
   "source": [
    "Num_1=int(input(\"please enter the first number=\"))\n",
    "Num_2=int(input(\"please enter the second number=\"))\n",
    "print(f\"addion of two numbers are ={Num_1+Num_2}\")"
   ]
  },
  {
   "cell_type": "code",
   "execution_count": 2,
   "id": "3b8ec2d7",
   "metadata": {},
   "outputs": [
    {
     "name": "stdout",
     "output_type": "stream",
     "text": [
      "3.8.8\n"
     ]
    }
   ],
   "source": [
    "from platform import python_version\n",
    "print(python_version())"
   ]
  },
  {
   "cell_type": "code",
   "execution_count": 3,
   "id": "b310df70",
   "metadata": {},
   "outputs": [
    {
     "name": "stdout",
     "output_type": "stream",
     "text": [
      "Please enter the numeric value we can calculate even or odd=25\n",
      "Odd\n"
     ]
    }
   ],
   "source": [
    "def even_odd(num):\n",
    "    if num%2==0:\n",
    "        return \"Even\"\n",
    "    return \"Odd\" \n",
    "n=int(input(\"Please enter the numeric value we can calculate even or odd=\"))\n",
    "print(even_odd(n))    "
   ]
  },
  {
   "cell_type": "code",
   "execution_count": 4,
   "id": "45363554",
   "metadata": {},
   "outputs": [
    {
     "name": "stdout",
     "output_type": "stream",
     "text": [
      "Please enter the candidate Roll number=1233\n",
      "Group name=Science\n",
      "Candidate name=Muhammad Amin\n",
      "Enter the father's name=Abdul Qasim\n",
      "Enter the school name=YSGS\n",
      "ENGLISH Marks=80\n",
      "Pakistan Studies Marks Marks=80\n",
      "Islamiat Marks=80\n",
      "Mathmatics marks Marks=80\n",
      "Biology Marks=80\n",
      "Physics Marks=80\n",
      "Sindhi Marks=80\n",
      "Chemistry Marks=80\n",
      "                         BOARD OF SECONDARY EDUCATION  KARACHI                         \n",
      "                                 STATEMENT OF MARKS                                \n",
      "                                   SSC EXAMINATION                                   \n",
      "EXAMINATION     ANNUAL 2013        ROLL NUMBER    1233  \n",
      "                                   GROUP          Science          \n",
      "Name             Muhammad Amin\n",
      "Father's Name     Abdul Qasim\n",
      "School/Private    YSGS \n",
      " \n",
      "\n",
      "                                        Subject                                          \n",
      "     COMPONENT-I                       MARKS                           COMPONENT-II                  MARKS\n",
      "SINDHI                               80                        MATHMATICS                   80\n",
      "ENGLISH                              80                        BIOLOGY                      80\n",
      "PAKISTAN STUDIES                     80                        PHYSICS                      80\n",
      "ISLAMIAT                             80                        CHEMISTRY                    80\n",
      "                                                           Grand Total   640   out of 800\n",
      "                                                                     Grade A+      80.0%\n"
     ]
    }
   ],
   "source": [
    "# Input the user to the marks of all subject\n",
    "# calculate all the marks and print a grade\n",
    "\n",
    "roll_number=input(\"Please enter the candidate Roll number=\")\n",
    "g_name=input(\"Group name=\")\n",
    "Name=input(\"Candidate name=\")\n",
    "f_name=input(\"Enter the father's name=\")\n",
    "\n",
    "School=input(\"Enter the school name=\")\n",
    "english=input(\"ENGLISH Marks=\")\n",
    "pst=input(\"Pakistan Studies Marks Marks=\")\n",
    "isl=input(\"Islamiat Marks=\")\n",
    "math=input(\"Mathmatics marks Marks=\")\n",
    "bio=input(\"Biology Marks=\")\n",
    "phy=input(\"Physics Marks=\")\n",
    "sindhi=input(\"Sindhi Marks=\")\n",
    "chem=input(\"Chemistry Marks=\")\n",
    "total=\"800\"\n",
    "\n",
    "\n",
    "num=int(english)+int(phy)+int(chem)+int(bio)+int(isl)+int(math)+int(sindhi)+int(pst)\n",
    "rew=int(num)/int(total)\n",
    "\n",
    "\n",
    "name=\"BOARD OF SECONDARY EDUCATION  KARACHI\"\n",
    "print(name.center(len(name)+50,\" \"))\n",
    "\n",
    "name2=\"STATEMENT OF MARKS\"\n",
    "print(name2.center(len(name2)+65,\" \"))\n",
    "\n",
    "name3=\"SSC EXAMINATION\"\n",
    "print(name3.center(len(name3)+70,\" \"))\n",
    "\n",
    "\n",
    "print(f\"EXAMINATION     ANNUAL 2013        ROLL NUMBER    {roll_number}  \")\n",
    "print(f\"                                   GROUP          {g_name}          \")\n",
    "print(f\"Name             {Name}\")\n",
    "print(f\"Father's Name     {f_name}\")\n",
    "print(f\"School/Private    {School} \\n \\n\")\n",
    "sub=\"Subject\"\n",
    "print(sub.center(len(sub)+80),\" \")\n",
    "print(\"     COMPONENT-I                       MARKS                           COMPONENT-II                  MARKS\")\n",
    "print(F\"SINDHI                               {sindhi}                        MATHMATICS                   {math}\")\n",
    "\n",
    "print(F\"ENGLISH                              {english}                        BIOLOGY                      {bio}\")\n",
    "\n",
    "print(F\"PAKISTAN STUDIES                     {pst}                        PHYSICS                      {phy}\")\n",
    "\n",
    "print(F\"ISLAMIAT                             {isl}                        CHEMISTRY                    {chem}\")\n",
    "\n",
    "print(f\"                                                           Grand Total   {num}   out of {total}\")\n",
    "\n",
    "\n",
    "if rew==0:\n",
    "    print(f\"                                                                     Grade F       {round(rew*100),2} % \")\n",
    "elif 0<rew<=0.35:\n",
    "    print(f\"                                                                     Grade F       {round(rew*100),2} % \")\n",
    "elif 0.36<rew<=0.40:\n",
    "    print(f\"                                                                     Grade E       {round(rew*100),2} % \")\n",
    "elif 0.41<rew<=0.50:\n",
    "    print(f\"                                                                     Grade D       {round(rew*100),2} % \")\n",
    "elif 0.51<rew<=0.59:\n",
    "    print(f\"                                                                     Grade C       {round(rew*100),2} % \")\n",
    "elif 0.60<rew<=0.69:\n",
    "    print(f\"                                                                     Grade B       {round(rew*100),2} % \")\n",
    "elif 0.70<rew<=0.79:\n",
    "    print(f\"                                                                     Grade A       {rew*100}%\")\n",
    "else: \n",
    "    print(f\"                                                                     Grade A+      {rew*100}%\")    \n",
    "\n"
   ]
  },
  {
   "cell_type": "code",
   "execution_count": 5,
   "id": "9e60fbd1",
   "metadata": {},
   "outputs": [
    {
     "name": "stdout",
     "output_type": "stream",
     "text": [
      "15\n"
     ]
    }
   ],
   "source": [
    "Numbers=[2,3,4,5,6,8,5,6,4,8,8,9,6,5,4]\n",
    "print(len(Numbers))"
   ]
  },
  {
   "cell_type": "code",
   "execution_count": 6,
   "id": "b7c0401d",
   "metadata": {},
   "outputs": [
    {
     "name": "stdout",
     "output_type": "stream",
     "text": [
      "please enter the radious of the circle=5\n",
      "78.5\n"
     ]
    }
   ],
   "source": [
    "def area(r):\n",
    "    A=3.14*r*r\n",
    "    return A\n",
    "b=int(input(\"please enter the radious of the circle=\"))\n",
    "print(area(b))"
   ]
  },
  {
   "cell_type": "code",
   "execution_count": 7,
   "id": "6cd803bc",
   "metadata": {},
   "outputs": [
    {
     "name": "stdout",
     "output_type": "stream",
     "text": [
      "Current date and time : \n",
      "24:10:2021 16:58:49\n"
     ]
    }
   ],
   "source": [
    "import datetime\n",
    "now = datetime.datetime.now()\n",
    "print (\"Current date and time : \")\n",
    "print (now.strftime(\"%d:%m:%Y %H:%M:%S\"))"
   ]
  },
  {
   "cell_type": "code",
   "execution_count": 8,
   "id": "769c3ced",
   "metadata": {},
   "outputs": [
    {
     "name": "stdout",
     "output_type": "stream",
     "text": [
      "Please enter the first and last name space separated is mandotery=Muhammad Amin\n",
      "dammahuM nimA\n"
     ]
    }
   ],
   "source": [
    "f,l=input(\"Please enter the first and last name space separated is mandotery=\").split(\" \")\n",
    "x=f[::-1]\n",
    "y=l[::-1]\n",
    "print(f\"{x} {y}\")"
   ]
  },
  {
   "cell_type": "code",
   "execution_count": 9,
   "id": "dcbeb7dd",
   "metadata": {},
   "outputs": [
    {
     "name": "stdout",
     "output_type": "stream",
     "text": [
      "33\n"
     ]
    }
   ],
   "source": [
    "total=0\n",
    "x=[1,2,1,2,1,3,5,4,5,4,5]\n",
    "for a in range(len(x)):\n",
    "   total+=x[a]\n",
    "print(total)\n"
   ]
  },
  {
   "cell_type": "code",
   "execution_count": 10,
   "id": "ebd6c455",
   "metadata": {},
   "outputs": [
    {
     "name": "stdout",
     "output_type": "stream",
     "text": [
      "666\n"
     ]
    }
   ],
   "source": [
    "x=[1,2,3,4,5,666,8,4]\n",
    "x.sort()\n",
    "print(x[-1])"
   ]
  },
  {
   "cell_type": "code",
   "execution_count": 11,
   "id": "cd4ba5fb",
   "metadata": {},
   "outputs": [
    {
     "name": "stdout",
     "output_type": "stream",
     "text": [
      "Twinkle, twinkle, little star, \n",
      " \t How I wonder what you are! \n",
      " \t \t Up above the world so high,\n",
      " \t \t Like a diamond in the sky. \n",
      " Twinkle, twinkle, little star, \n",
      " \t How I wonder what you are\n"
     ]
    }
   ],
   "source": [
    "print(\"Twinkle, twinkle, little star, \\n \\t How I wonder what you are! \\n \\t \\t Up above the world so high,\\n \\t \\t Like a diamond in the sky. \\n Twinkle, twinkle, little star, \\n \\t How I wonder what you are\")"
   ]
  },
  {
   "cell_type": "code",
   "execution_count": 12,
   "id": "02b16696",
   "metadata": {},
   "outputs": [
    {
     "name": "stdout",
     "output_type": "stream",
     "text": [
      "[1, 1, 2, 3]\n"
     ]
    }
   ],
   "source": [
    "a = [1, 1, 2, 3, 5, 8, 13, 21, 34, 55, 89]\n",
    "\n",
    "new_list=[]\n",
    "\n",
    "for item in a:\n",
    "  if item<5:\n",
    "    \n",
    "    new_list.append(item)\n",
    "\n",
    "print(new_list)"
   ]
  },
  {
   "cell_type": "code",
   "execution_count": null,
   "id": "9d8ec1d6",
   "metadata": {},
   "outputs": [],
   "source": []
  }
 ],
 "metadata": {
  "kernelspec": {
   "display_name": "Python 3",
   "language": "python",
   "name": "python3"
  },
  "language_info": {
   "codemirror_mode": {
    "name": "ipython",
    "version": 3
   },
   "file_extension": ".py",
   "mimetype": "text/x-python",
   "name": "python",
   "nbconvert_exporter": "python",
   "pygments_lexer": "ipython3",
   "version": "3.8.8"
  }
 },
 "nbformat": 4,
 "nbformat_minor": 5
}
